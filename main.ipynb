{
 "cells": [
  {
   "cell_type": "markdown",
   "metadata": {},
   "source": [
    "Imports"
   ]
  },
  {
   "cell_type": "code",
   "execution_count": null,
   "metadata": {},
   "outputs": [],
   "source": [
    "%pip install numpy\n",
    "%pip install pandas\n",
    "%pip install sklearn\n",
    "import numpy as np\n",
    "import pandas as pd\n",
    "from scipy.stats import spearmanr\n",
    "from scipy.io import arff\n",
    "from sklearn.neighbors import LocalOutlierFactor\n",
    "\n",
    "pd.set_option('display.max_rows', 500)"
   ]
  },
  {
   "cell_type": "markdown",
   "metadata": {},
   "source": [
    "Load data"
   ]
  },
  {
   "cell_type": "code",
   "execution_count": null,
   "metadata": {},
   "outputs": [],
   "source": [
    "columns = [\"net profit / total assets\", \"total liabilities / total assets\", \"working capital / total assets\", \"current assets / short-term liabilities\", \"[(cash + short-term securities + receivables - short-term liabilities) / (operating expenses - depreciation)] * 365\", \"retained earnings / total assets\", \"EBIT / total assets\", \"book value of equity / total liabilities\", \"sales / total assets\", \"equity / total assets\", \"(gross profit + extraordinary items + financial expenses) / total assets\", \"gross profit / short-term liabilities\", \"(gross profit + depreciation) / sales\", \"(gross profit + interest) / total assets\", \"(total liabilities * 365) / (gross profit + depreciation)\", \"(gross profit + depreciation) / total liabilities\", \"total assets / total liabilities\", \"gross profit / total assets\", \"gross profit / sales\", \"(inventory * 365) / sales\", \"sales (n) / sales (n-1)\", \"profit on operating activities / total assets\", \"net profit / sales\", \"gross profit (in 3 years) / total assets\", \"(equity - share capital) / total assets\", \"(net profit + depreciation) / total liabilities\", \"profit on operating activities / financial expenses\", \"working capital / fixed assets\", \"logarithm of total assets\", \"(total liabilities - cash) / sales\", \"(gross profit + interest) / sales\", \"(current liabilities * 365) / cost of products sold\", \"operating expenses / short-term liabilities\", \"operating expenses / total liabilities\", \"profit on sales / total assets\", \"total sales / total assets\", \"(current assets - inventories) / long-term liabilities\", \"constant capital / total assets\", \"profit on sales / sales\", \"(current assets - inventory - receivables) / short-term liabilities\", \"total liabilities / ((profit on operating activities + depreciation) * (12/365))\", \"profit on operating activities / sales\", \"rotation receivables + inventory turnover in days\", \"(receivables * 365) / sales\", \"net profit / inventory\", \"(current assets - inventory) / short-term liabilities\", \"(inventory * 365) / cost of products sold\", \"EBITDA (profit on operating activities - depreciation) / total assets\", \"EBITDA (profit on operating activities - depreciation) / sales\", \"current assets / total liabilities\", \"short-term liabilities / total assets\", \"(short-term liabilities * 365) / cost of products sold)\", \"equity / fixed assets\", \"constant capital / fixed assets\", \"working capital\", \"(sales - cost of products sold) / sales\", \"(current assets - inventory - short-term liabilities) / (sales - gross profit - depreciation)\", \"total costs /total sales\", \"long-term liabilities / equity\", \"sales / inventory\", \"sales / receivables\", \"(short-term liabilities *365) / sales\", \"sales / short-term liabilities\", \"sales / fixed assets\", \"IsGoingToBankrupt\"]\n",
    "data_1_year = arff.loadarff('datasets/1year.arff')\n",
    "data_2_year = arff.loadarff('datasets/2year.arff')\n",
    "data_3_year = arff.loadarff('datasets/3year.arff')\n",
    "data_4_year = arff.loadarff('datasets/4year.arff')\n",
    "data_5_year = arff.loadarff('datasets/5year.arff')\n",
    "\n",
    "df_1_year = pd.DataFrame(data_1_year[0])\n",
    "df_1_year.set_axis(columns, inplace=True, axis=1)\n",
    "df_1_year['IsGoingToBankrupt'] = df_1_year.apply(lambda x: x[64] == b'1', axis=1)\n",
    "\n",
    "df_2_year = pd.DataFrame(data_2_year[0])\n",
    "df_2_year.set_axis(columns, inplace=True, axis=1)\n",
    "df_2_year['IsGoingToBankrupt'] = df_2_year.apply(lambda x: x[64] == b'1', axis=1)\n",
    "\n",
    "df_3_year = pd.DataFrame(data_3_year[0])\n",
    "df_3_year.set_axis(columns, inplace=True, axis=1)\n",
    "df_3_year['IsGoingToBankrupt'] = df_3_year.apply(lambda x: x[64] == b'1', axis=1)\n",
    "\n",
    "df_4_year = pd.DataFrame(data_4_year[0])\n",
    "df_4_year.set_axis(columns, inplace=True, axis=1)\n",
    "df_4_year['IsGoingToBankrupt'] = df_4_year.apply(lambda x: x[64] == b'1', axis=1)\n",
    "\n",
    "df_5_year = pd.DataFrame(data_5_year[0])\n",
    "df_5_year.set_axis(columns, inplace=True, axis=1)\n",
    "df_5_year['IsGoingToBankrupt'] = df_5_year.apply(lambda x: x[64] == b'1', axis=1)"
   ]
  },
  {
   "cell_type": "markdown",
   "metadata": {},
   "source": [
    "Choose columns"
   ]
  },
  {
   "cell_type": "code",
   "execution_count": null,
   "metadata": {},
   "outputs": [],
   "source": [
    "columns_left = ['net profit / total assets', 'total liabilities / total assets',\n",
    "       'sales / total assets', 'sales (n) / sales (n-1)',\n",
    "       'working capital / fixed assets', 'sales / fixed assets',\n",
    "       'IsGoingToBankrupt']\n",
    "df_1_year = df_1_year[columns_left]\n",
    "df_2_year = df_2_year[columns_left]\n",
    "df_3_year = df_3_year[columns_left]\n",
    "df_4_year = df_4_year[columns_left]\n",
    "df_5_year = df_5_year[columns_left]"
   ]
  },
  {
   "cell_type": "markdown",
   "metadata": {},
   "source": [
    "Drop null values"
   ]
  },
  {
   "cell_type": "code",
   "execution_count": null,
   "metadata": {},
   "outputs": [],
   "source": [
    "df_1_year.dropna(inplace=True)\n",
    "df_2_year.dropna(inplace=True)\n",
    "df_3_year.dropna(inplace=True)\n",
    "df_4_year.dropna(inplace=True)\n",
    "df_5_year.dropna(inplace=True)"
   ]
  },
  {
   "cell_type": "markdown",
   "metadata": {},
   "source": [
    "Calculate covariance matrix"
   ]
  },
  {
   "cell_type": "code",
   "execution_count": null,
   "metadata": {},
   "outputs": [],
   "source": [
    "def calc_corr(data_frame):\n",
    "    columns = data_frame.columns\n",
    "    results = pd.DataFrame(columns=columns, index=columns)\n",
    "    for column1 in columns:\n",
    "        for column2 in columns:\n",
    "            if column1 == column2:\n",
    "                continue\n",
    "            corr, _ = spearmanr(data_frame[column1], data_frame[column2])\n",
    "            results[column1][column2] = corr\n",
    "    return results\n",
    "\n",
    "def eliminate_high_corr_columns(data_frame_corr_mat, eps = 0.9, verbose = True):\n",
    "    columns = data_frame_corr_mat.columns\n",
    "    column1 = 0\n",
    "    while column1 < len(columns):\n",
    "        to_drop = []\n",
    "        for column2 in range(column1 + 1, len(columns)):\n",
    "            if column1 == column2:\n",
    "                continue\n",
    "            corr = data_frame_corr_mat[columns[column1]][columns[column2]]\n",
    "            if abs(corr) > eps:\n",
    "                if verbose:\n",
    "                    print(f'Corr: {corr}, DELETING {columns[column2]}')\n",
    "                to_drop.append(columns[column2])\n",
    "        columns = columns.drop(to_drop)\n",
    "        column1 += 1\n",
    "    return columns"
   ]
  },
  {
   "cell_type": "code",
   "execution_count": null,
   "metadata": {},
   "outputs": [],
   "source": [
    "# columns_after_drop = eliminate_high_corr_columns(calc_corr(df_1_year), 0.5, verbose=False)\n",
    "# columns_after_drop = columns_after_drop.drop(['(inventory * 365) / sales' ,\n",
    "                                                # '(current assets - inventory - receivables) / short-term liabilities',\n",
    "                                                #  '(current assets - inventories) / long-term liabilities',\n",
    "                                                #  '(current liabilities * 365) / cost of products sold',\n",
    "                                                #  '(receivables * 365) / sales',\n",
    "                                                #  'logarithm of total assets',\n",
    "                                                #  'retained earnings / total assets'])\n",
    "display(calc_corr(df_1_year))\n",
    "display(len(calc_corr(df_1_year)))"
   ]
  },
  {
   "cell_type": "markdown",
   "metadata": {},
   "source": [
    "Separate bankrupt and non-bankrupt"
   ]
  },
  {
   "cell_type": "code",
   "execution_count": null,
   "metadata": {},
   "outputs": [],
   "source": [
    "year_1_b = df_1_year.query('IsGoingToBankrupt == True').drop(columns=['IsGoingToBankrupt'])\n",
    "year_1_nb = df_1_year.query('IsGoingToBankrupt == False').drop(columns=['IsGoingToBankrupt'])\n",
    "\n",
    "year_1_b = year_1_b.reset_index().drop(columns=['index'])\n",
    "year_1_nb = year_1_nb.reset_index().drop(columns=['index'])\n",
    "\n",
    "\n",
    "year_2_b = df_2_year.query('IsGoingToBankrupt == True').drop(columns=['IsGoingToBankrupt'])\n",
    "year_2_nb = df_2_year.query('IsGoingToBankrupt == False').drop(columns=['IsGoingToBankrupt'])\n",
    "\n",
    "year_2_b = year_2_b.reset_index().drop(columns=['index'])\n",
    "year_2_nb = year_2_nb.reset_index().drop(columns=['index'])\n",
    "\n",
    "\n",
    "year_3_b = df_3_year.query('IsGoingToBankrupt == True').drop(columns=['IsGoingToBankrupt'])\n",
    "year_3_nb = df_3_year.query('IsGoingToBankrupt == False').drop(columns=['IsGoingToBankrupt'])\n",
    "\n",
    "year_3_b = year_3_b.reset_index().drop(columns=['index'])\n",
    "year_3_nb = year_3_nb.reset_index().drop(columns=['index'])\n",
    "\n",
    "\n",
    "year_4_b = df_4_year.query('IsGoingToBankrupt == True').drop(columns=['IsGoingToBankrupt'])\n",
    "year_4_nb = df_4_year.query('IsGoingToBankrupt == False').drop(columns=['IsGoingToBankrupt'])\n",
    "\n",
    "year_4_b = year_4_b.reset_index().drop(columns=['index'])\n",
    "year_4_nb = year_4_nb.reset_index().drop(columns=['index'])\n",
    "\n",
    "\n",
    "year_5_b = df_5_year.query('IsGoingToBankrupt == True').drop(columns=['IsGoingToBankrupt'])\n",
    "year_5_nb = df_5_year.query('IsGoingToBankrupt == False').drop(columns=['IsGoingToBankrupt'])\n",
    "\n",
    "year_5_b = year_5_b.reset_index().drop(columns=['index'])\n",
    "year_5_nb = year_5_nb.reset_index().drop(columns=['index'])"
   ]
  },
  {
   "cell_type": "code",
   "execution_count": null,
   "metadata": {},
   "outputs": [],
   "source": [
    "print(f'In 1 year\\n Num of bankrupt: {len(year_1_b)}\\tNum of non-bankrupt: {len(year_1_nb)}')\n",
    "print(f'In 2 year\\n Num of bankrupt: {len(year_2_b)}\\tNum of non-bankrupt: {len(year_2_nb)}')\n",
    "print(f'In 3 year\\n Num of bankrupt: {len(year_3_b)}\\tNum of non-bankrupt: {len(year_3_nb)}')\n",
    "print(f'In 4 year\\n Num of bankrupt: {len(year_4_b)}\\tNum of non-bankrupt: {len(year_4_nb)}')\n",
    "print(f'In 5 year\\n Num of bankrupt: {len(year_5_b)}\\tNum of non-bankrupt: {len(year_5_nb)}')"
   ]
  },
  {
   "cell_type": "markdown",
   "metadata": {},
   "source": [
    "Outliers"
   ]
  },
  {
   "cell_type": "code",
   "execution_count": null,
   "metadata": {},
   "outputs": [],
   "source": [
    "def find_outliers(data_frame):\n",
    "    clf = LocalOutlierFactor(n_neighbors=3)\n",
    "    outliers = clf.fit_predict(data_frame)\n",
    "    outliers_indexes = np.where(outliers == - 1)[0]\n",
    "    rest_indexes = np.where(outliers == 1)[0]\n",
    "    outliers = data_frame.loc[outliers_indexes]\n",
    "    df_without_outliers = data_frame.loc[rest_indexes]\n",
    "    df_without_outliers = df_without_outliers.reset_index().drop(columns=['index'])\n",
    "    return outliers, df_without_outliers"
   ]
  },
  {
   "cell_type": "code",
   "execution_count": null,
   "metadata": {},
   "outputs": [],
   "source": [
    "outliers_year_1_b, year_1_b_clean = find_outliers(year_1_b)\n",
    "outliers_year_1_nb, year_1_nb_clean = find_outliers(year_1_nb)"
   ]
  },
  {
   "cell_type": "code",
   "execution_count": null,
   "metadata": {},
   "outputs": [],
   "source": [
    "display(year_1_b_clean.describe())\n",
    "display(year_1_nb_clean.describe())"
   ]
  },
  {
   "cell_type": "code",
   "execution_count": null,
   "metadata": {},
   "outputs": [],
   "source": [
    "display(year_1_b_clean.describe())\n",
    "display(outliers_year_1_b)"
   ]
  },
  {
   "cell_type": "code",
   "execution_count": null,
   "metadata": {},
   "outputs": [],
   "source": [
    "display(year_1_nb_clean.describe())\n",
    "display(outliers_year_1_nb)"
   ]
  }
 ],
 "metadata": {
  "interpreter": {
   "hash": "55b300d56bb7b5353b47769e26156f6c320f647244320f7273ee195dc1bba80f"
  },
  "kernelspec": {
   "display_name": "Python 3.9.9 64-bit (windows store)",
   "language": "python",
   "name": "python3"
  },
  "language_info": {
   "codemirror_mode": {
    "name": "ipython",
    "version": 3
   },
   "file_extension": ".py",
   "mimetype": "text/x-python",
   "name": "python",
   "nbconvert_exporter": "python",
   "pygments_lexer": "ipython3",
   "version": "3.9.9"
  },
  "orig_nbformat": 4
 },
 "nbformat": 4,
 "nbformat_minor": 2
}
