{
 "cells": [
  {
   "cell_type": "markdown",
   "metadata": {},
   "source": [
    "Imports"
   ]
  },
  {
   "cell_type": "code",
   "execution_count": null,
   "metadata": {},
   "outputs": [],
   "source": [
    "%pip install numpy\n",
    "%pip install pandas\n",
    "%pip install sklearn\n",
    "import numpy as np\n",
    "import pandas as pd\n",
    "from scipy.stats import spearmanr\n",
    "from scipy.io import arff"
   ]
  },
  {
   "cell_type": "markdown",
   "metadata": {},
   "source": [
    "Load data"
   ]
  },
  {
   "cell_type": "code",
   "execution_count": null,
   "metadata": {},
   "outputs": [],
   "source": [
    "columns = [\"net profit / total assets\", \"total liabilities / total assets\", \"working capital / total assets\", \"current assets / short-term liabilities\", \"[(cash + short-term securities + receivables - short-term liabilities) / (operating expenses - depreciation)] * 365\", \"retained earnings / total assets\", \"EBIT / total assets\", \"book value of equity / total liabilities\", \"sales / total assets\", \"equity / total assets\", \"(gross profit + extraordinary items + financial expenses) / total assets\", \"gross profit / short-term liabilities\", \"(gross profit + depreciation) / sales\", \"(gross profit + interest) / total assets\", \"(total liabilities * 365) / (gross profit + depreciation)\", \"(gross profit + depreciation) / total liabilities\", \"total assets / total liabilities\", \"gross profit / total assets\", \"gross profit / sales\", \"(inventory * 365) / sales\", \"sales (n) / sales (n-1)\", \"profit on operating activities / total assets\", \"net profit / sales\", \"gross profit (in 3 years) / total assets\", \"(equity - share capital) / total assets\", \"(net profit + depreciation) / total liabilities\", \"profit on operating activities / financial expenses\", \"working capital / fixed assets\", \"logarithm of total assets\", \"(total liabilities - cash) / sales\", \"(gross profit + interest) / sales\", \"(current liabilities * 365) / cost of products sold\", \"operating expenses / short-term liabilities\", \"operating expenses / total liabilities\", \"profit on sales / total assets\", \"total sales / total assets\", \"(current assets - inventories) / long-term liabilities\", \"constant capital / total assets\", \"profit on sales / sales\", \"(current assets - inventory - receivables) / short-term liabilities\", \"total liabilities / ((profit on operating activities + depreciation) * (12/365))\", \"profit on operating activities / sales\", \"rotation receivables + inventory turnover in days\", \"(receivables * 365) / sales\", \"net profit / inventory\", \"(current assets - inventory) / short-term liabilities\", \"(inventory * 365) / cost of products sold\", \"EBITDA (profit on operating activities - depreciation) / total assets\", \"EBITDA (profit on operating activities - depreciation) / sales\", \"current assets / total liabilities\", \"short-term liabilities / total assets\", \"(short-term liabilities * 365) / cost of products sold)\", \"equity / fixed assets\", \"constant capital / fixed assets\", \"working capital\", \"(sales - cost of products sold) / sales\", \"(current assets - inventory - short-term liabilities) / (sales - gross profit - depreciation)\", \"total costs /total sales\", \"long-term liabilities / equity\", \"sales / inventory\", \"sales / receivables\", \"(short-term liabilities *365) / sales\", \"sales / short-term liabilities\", \"sales / fixed assets\", \"IsGoingToBankrupt\"]\n",
    "data_1_year = arff.loadarff('datasets/1year.arff')\n",
    "data_2_year = arff.loadarff('datasets/2year.arff')\n",
    "data_3_year = arff.loadarff('datasets/3year.arff')\n",
    "data_4_year = arff.loadarff('datasets/4year.arff')\n",
    "data_5_year = arff.loadarff('datasets/5year.arff')\n",
    "\n",
    "df_1_year = pd.DataFrame(data_1_year[0])\n",
    "df_1_year.set_axis(columns, inplace=True, axis=1)\n",
    "df_1_year['IsGoingToBankrupt'] = df_1_year.apply(lambda x: x[64] == b'1', axis=1)\n",
    "\n",
    "df_2_year = pd.DataFrame(data_2_year[0])\n",
    "df_2_year.set_axis(columns, inplace=True, axis=1)\n",
    "df_2_year['IsGoingToBankrupt'] = df_2_year.apply(lambda x: x[64] == b'1', axis=1)\n",
    "\n",
    "df_3_year = pd.DataFrame(data_3_year[0])\n",
    "df_3_year.set_axis(columns, inplace=True, axis=1)\n",
    "df_3_year['IsGoingToBankrupt'] = df_3_year.apply(lambda x: x[64] == b'1', axis=1)\n",
    "\n",
    "df_4_year = pd.DataFrame(data_4_year[0])\n",
    "df_4_year.set_axis(columns, inplace=True, axis=1)\n",
    "df_4_year['IsGoingToBankrupt'] = df_4_year.apply(lambda x: x[64] == b'1', axis=1)\n",
    "\n",
    "df_5_year = pd.DataFrame(data_5_year[0])\n",
    "df_5_year.set_axis(columns, inplace=True, axis=1)\n",
    "df_5_year['IsGoingToBankrupt'] = df_5_year.apply(lambda x: x[64] == b'1', axis=1)"
   ]
  }
 ],
 "metadata": {
  "interpreter": {
   "hash": "55b300d56bb7b5353b47769e26156f6c320f647244320f7273ee195dc1bba80f"
  },
  "kernelspec": {
   "display_name": "Python 3.9.9 64-bit (windows store)",
   "language": "python",
   "name": "python3"
  },
  "language_info": {
   "codemirror_mode": {
    "name": "ipython",
    "version": 3
   },
   "file_extension": ".py",
   "mimetype": "text/x-python",
   "name": "python",
   "nbconvert_exporter": "python",
   "pygments_lexer": "ipython3",
   "version": "3.9.9"
  },
  "orig_nbformat": 4
 },
 "nbformat": 4,
 "nbformat_minor": 2
}
